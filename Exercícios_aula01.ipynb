{
  "nbformat": 4,
  "nbformat_minor": 0,
  "metadata": {
    "colab": {
      "name": "Exercícios_aula01.ipynb",
      "provenance": [],
      "collapsed_sections": [],
      "authorship_tag": "ABX9TyMadqTjZpB2qqxJm5osG0Bn",
      "include_colab_link": true
    },
    "kernelspec": {
      "name": "python3",
      "display_name": "Python 3"
    },
    "language_info": {
      "name": "python"
    }
  },
  "cells": [
    {
      "cell_type": "markdown",
      "metadata": {
        "id": "view-in-github",
        "colab_type": "text"
      },
      "source": [
        "<a href=\"https://colab.research.google.com/github/cmartinsvi/Python_21.1/blob/main/Exerc%C3%ADcios_aula01.ipynb\" target=\"_parent\"><img src=\"https://colab.research.google.com/assets/colab-badge.svg\" alt=\"Open In Colab\"/></a>"
      ]
    },
    {
      "cell_type": "markdown",
      "metadata": {
        "id": "3-D9AmvkOSSg"
      },
      "source": [
        "***Resolução dos Exercícios Aula 1***\n",
        "\n",
        "**Exercício1:**\n",
        "Se você fizer uma corrida de 10 quilômetros em 43 minutos e 30 segundos, qual será seu tempo médio por milha? Qual é a sua velocidade média em milhas por hora? (Dica: há 1,61 quilômetros em uma milha)"
      ]
    },
    {
      "cell_type": "code",
      "metadata": {
        "colab": {
          "base_uri": "https://localhost:8080/"
        },
        "id": "y3PoaA_sO1CD",
        "outputId": "cb661fea-7e34-4605-db35-d31f345be64c"
      },
      "source": [
        "D = (10/1.61)\n",
        "t_1 = (43/60)\n",
        "t_2 = (30/3600)\n",
        "t = (t_1+t_2)\n",
        "Vm = (D/t)\n",
        "Tm = (1/Vm)\n",
        "Tm_2 = (Tm*3600)\n",
        "Tm_3 = (Tm*60)\n",
        "\n",
        "print('exercicio1', \n",
        "      2 * '\\n','1.6km -- 1 milha', \n",
        "      '\\n 10km  --  D',\n",
        "      '\\n D =', D, 'milhas',\n",
        "      2 * '\\n','1h -- 60min',\n",
        "      '\\n t_1 -- 43min',\n",
        "      '\\n t_1 = ',t_1, 'h ',\n",
        "      2 * '\\n','1h -- 3600s',\n",
        "      '\\n t_2 -- 30s',\n",
        "      '\\n t_2 = ',t_2, 's',\n",
        "      2 * '\\n','Tm =', Tm,'h',\n",
        "      '\\n Tm =',Tm_2,\"s\"\n",
        "      '\\n Tm =',Tm_3,\"min\")"
      ],
      "execution_count": 106,
      "outputs": [
        {
          "output_type": "stream",
          "text": [
            "exercicio1 \n",
            "\n",
            " 1.6km -- 1 milha \n",
            " 10km  --  D \n",
            " D = 6.211180124223602 milhas \n",
            "\n",
            " 1h -- 60min \n",
            " t_1 -- 43min \n",
            " t_1 =  0.7166666666666667 h  \n",
            "\n",
            " 1h -- 3600s \n",
            " t_2 -- 30s \n",
            " t_2 =  0.008333333333333333 s \n",
            "\n",
            " Tm = 0.11672500000000002 h \n",
            " Tm = 420.2100000000001 s\n",
            " Tm = 7.003500000000002 min\n"
          ],
          "name": "stdout"
        }
      ]
    },
    {
      "cell_type": "markdown",
      "metadata": {
        "id": "3stO5gnfO3Q2"
      },
      "source": [
        "**Execício2:**\n",
        "Desde sua varanda você escuta o som do primeiro fogo artificial do reveillon 3 segundos depois de ver a luz, qual a distância? (o som tem velocidade 343 m/s e a luz $3\\times 10^8$ m/s)."
      ]
    },
    {
      "cell_type": "code",
      "metadata": {
        "colab": {
          "base_uri": "https://localhost:8080/"
        },
        "id": "bsUTwkqbO08i",
        "outputId": "fb5b144a-14d6-490b-c19c-b0ef2d344e1c"
      },
      "source": [
        "V_som = 343\n",
        "T = 3\n",
        "\n",
        "print('Dintância = Velocidade do som x Tempo')\n",
        "D = (V_som*T)\n",
        "print('Dintância =', D,'m')\n",
        "\n",
        "D_km = (D/1000)\n",
        "print('Distância =', D_km, 'Km')"
      ],
      "execution_count": 9,
      "outputs": [
        {
          "output_type": "stream",
          "text": [
            "Dintância = Velocidade do som x Tempo\n",
            "Dintância = 1029 m\n",
            "Distância = 1.029 Km\n"
          ],
          "name": "stdout"
        }
      ]
    },
    {
      "cell_type": "markdown",
      "metadata": {
        "id": "akrxQfTgRE10"
      },
      "source": [
        "**Exercício3:**\n",
        "Ache os zeros da função\n",
        " \n",
        "$ y = 3x^2 - 4x -10 $"
      ]
    },
    {
      "cell_type": "code",
      "metadata": {
        "colab": {
          "base_uri": "https://localhost:8080/"
        },
        "id": "kLtQMYbFRkDd",
        "outputId": "3b365544-e4cd-41ba-9446-ae3bdcdc3aa0"
      },
      "source": [
        "import math\n",
        "a = 3\n",
        "b = -4\n",
        "c = -10\n",
        "d = math.sqrt((b**2)-(4*a*c))\n",
        "\n",
        "x_1 = '{:02.2f}'.format((-b + d)/(2*a))\n",
        "x_2 = '{:02.2f}'.format((-b - d)/(2*a))\n",
        "\n",
        "print('Os zeros da função vão ser quando:',\n",
        "      2 * '\\n', 'x_1 =', x_1,\n",
        "      '\\n x_2 =', x_2)\n"
      ],
      "execution_count": 92,
      "outputs": [
        {
          "output_type": "stream",
          "text": [
            "Os zeros da função vão ser quando: \n",
            "\n",
            " x_1 = 2.61 \n",
            " x_2 = -1.28\n"
          ],
          "name": "stdout"
        }
      ]
    },
    {
      "cell_type": "markdown",
      "metadata": {
        "id": "yrZabkIpe7tm"
      },
      "source": [
        "***Exercício4:***\n",
        "\n",
        "![exercicio 4.jfif](data:image/jpeg;base64,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)\n",
        "\n",
        "\n",
        "Se, ao meiodia, a sombra de um poste de 5 m de altura tem apenas 50 cm de comprimento no chão, qual o ângulo zenital do sol? "
      ]
    },
    {
      "cell_type": "code",
      "metadata": {
        "id": "FreCApK1fXM4"
      },
      "source": [
        ""
      ],
      "execution_count": null,
      "outputs": []
    },
    {
      "cell_type": "markdown",
      "metadata": {
        "id": "ThaFVzvEjjCC"
      },
      "source": [
        "**Exercício5:**\n",
        "Calcule o seu IMC: $IMC = M / A^2$ (com a massa em Kg e a altura em metros). Um valor saudável estara --em geral-- entre 20-25. Um bebê de 6 meses \"gorducho\" tem 70 cm de \"comprimento\" e 11 kg de massa, qual o IMC dele?"
      ]
    },
    {
      "cell_type": "code",
      "metadata": {
        "colab": {
          "base_uri": "https://localhost:8080/"
        },
        "id": "YoXJwbC1j0AS",
        "outputId": "eee8fdf5-a1f1-4c37-d521-7bf9784da634"
      },
      "source": [
        "M = 60  # Meu peso em Kg\n",
        "A = 1.60 # Minha Altura em m\n",
        "IMC = '{:02.2f}'.format(M/A**2) # Indice de Massa corporal\n",
        "print('O meu IMC (indice de massa corporal) é:', 2 * '\\n','IMC =', IMC, 2*'\\n','Logo eu estou dendro de um valor saudável' )\n",
        "\n",
        "M_2 = 11 # Peso em Kg do bebê\n",
        "A_2 = 70 # Altura em cm do bebê\n",
        "A_3 = A_2/100 #Altura em m do bebê\n",
        "IMC_2 ='{:02.2f}'.format(M_2/A_3**2)\n",
        "print('\\n O IMC (indice de massa corporal) do bebê é:', 2 * '\\n','IMC_2 =', IMC_2, 2*'\\n','Logo o bebê está dendro de um valor saudável' )"
      ],
      "execution_count": 91,
      "outputs": [
        {
          "output_type": "stream",
          "text": [
            "O meu IMC (indice de massa corporal) é: \n",
            "\n",
            " IMC = 23.44 \n",
            "\n",
            " Logo eu estou dendro de um valor saudável\n",
            "\n",
            " O IMC (indice de massa corporal) do bebê é: \n",
            "\n",
            " IMC_2 = 22.45 \n",
            "\n",
            " Logo o bebê está dendro de um valor saudável\n"
          ],
          "name": "stdout"
        }
      ]
    },
    {
      "cell_type": "markdown",
      "metadata": {
        "id": "MFfMsasqmd07"
      },
      "source": [
        "**Exercício6:**\n",
        "Calcule a velocidade final de um objeto em queda livre a partir de 3 metros de altura (sem resistencia do ar). Calcule o tempo que esse objeto demora para cair."
      ]
    },
    {
      "cell_type": "code",
      "metadata": {
        "colab": {
          "base_uri": "https://localhost:8080/"
        },
        "id": "plB4tjt2moTU",
        "outputId": "56b8e50b-6fce-4eab-9236-40420ed5d77d"
      },
      "source": [
        "import math\n",
        "H = 3 # valor da altura em metros \n",
        "g = 9.8 # valor da aceleração da gravidade em m/s²\n",
        "# sabemos que o tempo é descrito por t=sqrt(2*H/g)\n",
        "\n",
        "T = '{:02.2f}'.format(math.sqrt((2*H)/g))\n",
        "\n",
        "print('O tempo de queda do objeto será:', '\\n T =', T, 's')"
      ],
      "execution_count": 107,
      "outputs": [
        {
          "output_type": "stream",
          "text": [
            "O tempo de queda do objeto será: \n",
            " T = 0.78 s\n"
          ],
          "name": "stdout"
        }
      ]
    }
  ]
}