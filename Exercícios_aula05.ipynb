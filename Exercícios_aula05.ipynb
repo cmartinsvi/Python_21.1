{
  "nbformat": 4,
  "nbformat_minor": 0,
  "metadata": {
    "colab": {
      "name": "Exercícios_aula05.ipynb",
      "provenance": [],
      "collapsed_sections": [],
      "authorship_tag": "ABX9TyMTsgY0PRKvOcsUDEMTW5vk",
      "include_colab_link": true
    },
    "kernelspec": {
      "name": "python3",
      "display_name": "Python 3"
    },
    "language_info": {
      "name": "python"
    }
  },
  "cells": [
    {
      "cell_type": "markdown",
      "metadata": {
        "id": "view-in-github",
        "colab_type": "text"
      },
      "source": [
        "<a href=\"https://colab.research.google.com/github/cmartinsvi/Python_21.1/blob/main/Exerc%C3%ADcios_aula05.ipynb\" target=\"_parent\"><img src=\"https://colab.research.google.com/assets/colab-badge.svg\" alt=\"Open In Colab\"/></a>"
      ]
    },
    {
      "cell_type": "markdown",
      "metadata": {
        "id": "V6p9CZc9FJkV"
      },
      "source": [
        "**Exercício 1:**\n",
        "Modifique o programa da tartaruga (primeiro exemplo) para que, antes de criar a janela, ele solicite que o usuário insira a cor de fundo desejada. Ele deve armazenar as respostas do usuário em uma variável e modificar a cor da janela de acordo com os desejos do usuário.\n",
        "\n",
        "- Dicas: faça uso da função input, built-in do python\n",
        "- você pode encontrar uma lista de nomes de cores permitidos em http://www.tcl.tk/man/tcl8.4/TkCmd/colors.htm. Inclui alguns bem incomuns, como “peach puff” e “HotPink” ”***\n",
        "Faça modificações similares para permitir que o usuário mude a cor da tartaruga durante a execução do programa."
      ]
    },
    {
      "cell_type": "code",
      "metadata": {
        "id": "6ZB2wN0ujdNq"
      },
      "source": [
        "import turtle             # nos permite usar as tartarugas (turtles)\n",
        "\n",
        "cor_de_fundo = input('Tell me the backgroud color:') \n",
        "\n",
        "\"\"\" \n",
        "    Definindo uma variavel para a cor de fundo. \n",
        "    A função input() irá printar o que esta entre ''  e solicitar que a pessoa \n",
        "    que esta executando o código a selecione. \n",
        "    Nesse caso a função input() me retorna uma string (um texto) que é exatamente \n",
        "    o que queremos. \n",
        "\"\"\"\n",
        "\n",
        "jn = turtle.Screen()       # Abre uma janela onde as tartarugas vão caminhar\n",
        "jn.bgcolor(cor_de_fundo)   # Definir a cor de fundo da janela \n",
        "joana = turtle.Turtle()    # Cria uma tartaruga, atribui a joana\n",
        "joana.color(\"black\")       # Dizer à Teca para mudar sua cor (atributo)\n",
        "\n",
        "joana.forward(50)          # diz para joana andar para frente por 50 unidades\n",
        "joana.left(90)             # diz para joana virar de 90 graus\n",
        "joana.forward(30)          # Completa o segundo lado do retângulo\n",
        "\n",
        "jn.mainloop()             # Espera o usuário fechar a janela"
      ],
      "execution_count": null,
      "outputs": []
    },
    {
      "cell_type": "markdown",
      "metadata": {
        "id": "1TtbnSLSFVYT"
      },
      "source": [
        "**Exercício 2:**\n",
        "Faça o mesmo para a largura da caneta da tartaruga. Dica: seu diálogo com o usuário retornará uma string, mas o método pensize espera que seu argumento seja um int. Então, você precisará converter a string em um int antes de passá-la para pensize.\n",
        "Investiguem os métodos e tipos do módulo turtle;\n"
      ]
    },
    {
      "cell_type": "code",
      "metadata": {
        "id": "qqUKJmmNopRU"
      },
      "source": [
        "import turtle                       # nos permite usar as tartarugas (turtles)\n",
        "\n",
        "cor_de_fundo = input('Enter the backgroud color:') \n",
        "cor_da_linha = input('Enter the line color:')\n",
        "tamanho_da_linha = input('Enter the pen size')\n",
        "pensize = int(tamanho_da_linha)\n",
        "\n",
        "\"\"\" \n",
        "    Definindo as variaveis para a cor de fundo, cor da linha e tamanho da linha. \n",
        "    A função input() irá printar o que esta entre ''  e solicitar que a pessoa \n",
        "    que esta executando o código a digite. \n",
        "    A função input() irá me retornar uma string (um texto) que é exatamente \n",
        "    o que queremos nas duas primeiras variáveis, mas não é o que queremos na\n",
        "    ultima o que queremos nela é um inteiro então teremos que tranforma-la e \n",
        "    fazemos isso usando a função int(). \n",
        "\"\"\"\n",
        "\n",
        "jn = turtle.Screen()                 # Abre uma janela onde as tartarugas vão caminhar\n",
        "jn.bgcolor(cor_de_fundo)             # Definir a cor de fundo da janela \n",
        "\n",
        "joana = turtle.Turtle()              # Cria uma tartaruga, atribui a joana\n",
        "joana.color(cor_da_linha)            # Dizer à Teca para mudar sua cor (atributo)\n",
        "joana.pensize(pensize)               # Diga a Teca para ajustar a largura da caneta (atributo)\n",
        "\n",
        "joana.forward(50)                    # diz para joana andar para frente por 50 unidades\n",
        "joana.left(90)                       # diz para joana virar de 90 graus\n",
        "joana.forward(30)                    # Completa o segundo lado do retângulo\n",
        "\n",
        "jn.mainloop()                        # Espera o usuário fechar a janela\n",
        "\n",
        "\n",
        "'''\n",
        "Podemos também em vez de usar a função int() usar a float() assim ele ira ler \n",
        "inclusive os falores como 0.5 \n",
        "Ficaria assim:\n",
        "\n",
        "import turtle                       # nos permite usar as tartarugas (turtles)\n",
        "\n",
        "cor_de_fundo = input('Enter the backgroud color:') \n",
        "cor_da_linha = input('Enter the line color:')\n",
        "tamanho_da_linha = input('Enter the pen size')\n",
        "pensize = float(tamanho_da_linha)\n",
        "\n",
        "\"\"\" \n",
        "    Definindo as variaveis para a cor de fundo, cor da linha e tamanho da linha. \n",
        "    A função input() irá printar o que esta entre ''  e solicitar que a pessoa \n",
        "    que esta executando o código a digite. \n",
        "    A função input() irá me retornar uma string (um texto) que é exatamente \n",
        "    o que queremos nas duas primeiras variáveis, mas não é o que queremos na\n",
        "    ultima o que queremos nela é um inteiro então teremos que tranforma-la e \n",
        "    fazemos isso usando a função int(). \n",
        "\"\"\"\n",
        "\n",
        "jn = turtle.Screen()                 # Abre uma janela onde as tartarugas vão caminhar\n",
        "jn.bgcolor(cor_de_fundo)             # Definir a cor de fundo da janela \n",
        "\n",
        "joana = turtle.Turtle()              # Cria uma tartaruga, atribui a joana\n",
        "joana.color(cor_da_linha)            # Dizer à Teca para mudar sua cor (atributo)\n",
        "joana.pensize(pensize)               # Diga a Teca para ajustar a largura da caneta (atributo)\n",
        "\n",
        "joana.forward(50)                    # diz para joana andar para frente por 50 unidades\n",
        "joana.left(90)                       # diz para joana virar de 90 graus\n",
        "joana.forward(30)                    # Completa o segundo lado do retângulo\n",
        "\n",
        "jn.mainloop()                        # Espera o usuário fechar a janela\n",
        "'''"
      ],
      "execution_count": null,
      "outputs": []
    },
    {
      "cell_type": "code",
      "metadata": {
        "colab": {
          "base_uri": "https://localhost:8080/"
        },
        "id": "B2UGA6MZu48w",
        "outputId": "6b05dfa4-095e-479f-929a-e6df2e973134"
      },
      "source": [
        "#teste usando a função int()\n",
        "\n",
        "termo_1 = input('digite um numero:')\n",
        "termo = int(termo_1)\n",
        "\n",
        "soma = termo + 10\n",
        "\n",
        "print(soma)"
      ],
      "execution_count": 6,
      "outputs": [
        {
          "output_type": "stream",
          "name": "stdout",
          "text": [
            "digite um numero:14\n",
            "24\n"
          ]
        }
      ]
    },
    {
      "cell_type": "markdown",
      "metadata": {
        "id": "4mTHFSS3EZvi"
      },
      "source": [
        "**Exercício 4:**\n",
        "Desenhe um quadrado, usando a forma de tartaruga, ao invés da flecha, para desenhar.\n",
        "\n",
        "- mude a velocidade com que a tartaruga faz o desenho"
      ]
    },
    {
      "cell_type": "code",
      "metadata": {
        "id": "5WA73AOAxUT2"
      },
      "source": [
        ""
      ],
      "execution_count": null,
      "outputs": []
    },
    {
      "cell_type": "markdown",
      "metadata": {
        "id": "IvxG2NQE11JY"
      },
      "source": [
        "**Exercício 5:**\n",
        "Sabendo que o ângulo interno da ponta de uma estrela de 5 pontas é de 36 graus, desenhe uma estrela em uma janela.\n",
        "\n",
        "![title](https://github.com/malbouis/Python_intro/blob/master/aulas_2019/pics/estrela.png?raw=1)\n"
      ]
    },
    {
      "cell_type": "code",
      "metadata": {
        "id": "q266aTV61oYF"
      },
      "source": [
        "import turtle\n",
        "jn = turtle.Screen()         # Configurar a janela e seus atributos\n",
        "jn.bgcolor(\"lightpink\")      # Definir a cor de fundo da janela\n",
        "\n",
        "teca = turtle.Turtle()\n",
        "teca.color(\"purple\")         # Dizer à Teca para mudar sua cor (atributo)\n",
        "teca.pensize(3)              # Diga a Teca para ajustar a largura da caneta (atributo)\n",
        "\n",
        "'''\n",
        "teca.forward(150)\n",
        "teca.right(144)\n",
        "teca.forward(150)\n",
        "teca.right(144)\n",
        "teca.forward(150)\n",
        "teca.right(144)\n",
        "teca.forward(150)\n",
        "teca.right(144)\n",
        "teca.forward(150)\n",
        "\n",
        "Podemos simplificar todas essas linhas de código usando a função for + range\n",
        "onde na for teremos um loop e na range o numero de vezes que eu quero que ele \n",
        "se repita\n",
        "'''\n",
        "for i in range(5):\n",
        "  teca.forward(150)\n",
        "  teca.right(144)\n",
        "\n",
        "jn.mainloop()"
      ],
      "execution_count": null,
      "outputs": []
    },
    {
      "cell_type": "markdown",
      "metadata": {
        "id": "rQNSM9WhGUKA"
      },
      "source": [
        "**Exercíco 6:**\n",
        "Sabendo o ângulo interno da ponta de uma estrela, desenhe quatro estrelas em uma janela, com uma certa distância entre elas. Dica: use a função penup() e pendown() do módulo turtle"
      ]
    },
    {
      "cell_type": "markdown",
      "metadata": {
        "id": "wo8tqQ-iEFYd"
      },
      "source": [
        "### Exercícios Extras\n",
        "\n"
      ]
    },
    {
      "cell_type": "markdown",
      "metadata": {
        "id": "BZxf_yNX9DsL"
      },
      "source": [
        "**Exercício 1:**\n",
        "Escreva uma função chamada square, que toma um parâmetro t, que é uma Turtle. Essa função deve usar o turtle para desenhar um quadrado. Escreva uma chamada de função que passe joana como argumento para square e rode o programa novamente."
      ]
    },
    {
      "cell_type": "code",
      "metadata": {
        "id": "rw4WOU3l9KZh"
      },
      "source": [
        "import turtle\n",
        "jn = turtle.Screen()\n",
        "jn.bgcolor(\"lightpink\")\n",
        "\n",
        "joana = turtle.Turtle()\n",
        "joana.color(\"violetred\")\n",
        "joana.pensize(2)\n",
        "\n",
        "def  square(t):\n",
        "  for i in range(4):\n",
        "    t.forward(100)\n",
        "    t.left(90)\n",
        "    \n",
        "square(joana)\n",
        "\n",
        "jn.mainloop()\n"
      ],
      "execution_count": null,
      "outputs": []
    },
    {
      "cell_type": "markdown",
      "metadata": {
        "id": "B3JEZjfI_fg-"
      },
      "source": [
        "**Exercício 3:**\n",
        "Faça uma cópia da função square e mude o nome para polygon. Adicione um outro parâmetro chamado n e modifique o corpo da função para que ela desenhe um polígono regular de n lados. Dica: Os ângulos externos de um polígono regular de n lados são de 360/n graus."
      ]
    },
    {
      "cell_type": "code",
      "metadata": {
        "id": "bBUj_XxiDnh5"
      },
      "source": [
        "import turtle\n",
        "jn = turtle.Screen()\n",
        "jn.bgcolor(\"lightpink\")\n",
        "\n",
        "joana = turtle.Turtle()\n",
        "joana.color(\"violetred\")\n",
        "joana.pensize(2)\n",
        "\n",
        "def  polygon(t,n):\n",
        "  for i in range(n):\n",
        "    t.forward(100)\n",
        "    t.left(360/n)\n",
        "    \n",
        "polygon(joana,5)\n",
        "\n",
        "jn.mainloop()"
      ],
      "execution_count": null,
      "outputs": []
    },
    {
      "cell_type": "markdown",
      "metadata": {
        "id": "lY0ElKvhEJth"
      },
      "source": [
        ""
      ]
    },
    {
      "cell_type": "code",
      "metadata": {
        "id": "nqb2JiREEBsH"
      },
      "source": [
        ""
      ],
      "execution_count": null,
      "outputs": []
    }
  ]
}