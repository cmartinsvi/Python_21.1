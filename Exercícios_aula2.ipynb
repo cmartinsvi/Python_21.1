{
  "nbformat": 4,
  "nbformat_minor": 0,
  "metadata": {
    "colab": {
      "name": "Exercícios_aula2.ipynb",
      "provenance": [],
      "authorship_tag": "ABX9TyPErUju9UAfe6ILoVn3WE8W",
      "include_colab_link": true
    },
    "kernelspec": {
      "name": "python3",
      "display_name": "Python 3"
    },
    "language_info": {
      "name": "python"
    }
  },
  "cells": [
    {
      "cell_type": "markdown",
      "metadata": {
        "id": "view-in-github",
        "colab_type": "text"
      },
      "source": [
        "<a href=\"https://colab.research.google.com/github/cmartinsvi/Python_21.1/blob/main/Exerc%C3%ADcios_aula2.ipynb\" target=\"_parent\"><img src=\"https://colab.research.google.com/assets/colab-badge.svg\" alt=\"Open In Colab\"/></a>"
      ]
    },
    {
      "cell_type": "markdown",
      "metadata": {
        "id": "JkI_1Dqb0bng"
      },
      "source": [
        "**Exercício 1:**\n",
        "Considere as seguintes declarações de atribuições:\n",
        "   * largura = 17 \n",
        "   * altura = 12.0\n",
        "   * delimitador = \".\"\n",
        "   \n",
        "Para cada uma das expressões a seguir, escreva o valor das expressões e o tipo (do valor da expressão):\n",
        "1. largura/2 = 8.5 (float)\n",
        "1. largura/2.0 = 8.5 (float)\n",
        "1. altura/3 = 4 (int)\n",
        "1. 1 + 2 * 5 = 11 (int)\n",
        "1. delimitador*5 = ..... (str)\n",
        "\n",
        "Use o interpretador de python para verificar suas respostas."
      ]
    },
    {
      "cell_type": "code",
      "metadata": {
        "colab": {
          "base_uri": "https://localhost:8080/"
        },
        "id": "FYdzXJb60rW5",
        "outputId": "42eb694f-5350-4841-fbf5-6d8929b120f8"
      },
      "source": [
        "#Resolução do exercicio da aula 2\n",
        "largura = 17\n",
        "altura = 12.0\n",
        "delimitador = \".\"\n",
        "\n",
        "a = largura/2\n",
        "b = largura/2.0\n",
        "c = altura/3\n",
        "d = 1+2*5\n",
        "e = delimitador*5\n",
        "\n",
        "print('largura/2 =',a, \n",
        "      '\\n', type(a))\n",
        "\n",
        "print('\\n largura/2.0 =',b, \n",
        "      '\\n', type(b))\n",
        "\n",
        "print('\\n altura/3 =',c,\n",
        "      '\\n', type(c)) # Por que não deu como int??\n",
        "\n",
        "print('\\n 1 + 2 * 5 =', d,\n",
        "      '\\n', type(d))\n",
        "\n",
        "print('\\n delimitador * 5 =',e,\n",
        "      '\\n', type(e))"
      ],
      "execution_count": 25,
      "outputs": [
        {
          "output_type": "stream",
          "text": [
            "largura/2 = 8.5 \n",
            " <class 'float'>\n",
            "\n",
            " largura/2.0 = 8.5 \n",
            " <class 'float'>\n",
            "\n",
            " altura/3 = 4.0 \n",
            " <class 'float'>\n",
            "\n",
            " 1 + 2 * 5 = 11 \n",
            " <class 'int'>\n",
            "\n",
            " delimitador * 5 = ..... \n",
            " <class 'str'>\n"
          ],
          "name": "stdout"
        }
      ]
    },
    {
      "cell_type": "markdown",
      "metadata": {
        "id": "lmX_xsfc45pj"
      },
      "source": [
        "**Exercício 2:**\n",
        "O volume de uma esfera de raio *r* é $\\frac{4}{3} \\pi r^{3}$ \n",
        "\n",
        "Qual é o volume de uma esfera de raio 5?\n",
        "\n"
      ]
    },
    {
      "cell_type": "code",
      "metadata": {
        "colab": {
          "base_uri": "https://localhost:8080/"
        },
        "id": "1e-4w04R5TSh",
        "outputId": "0e8d5461-84c5-4cae-fa87-9cfd2f89b927"
      },
      "source": [
        "#Calculando o volume de uma esfera de raio 5\n",
        "import math\n",
        "r = 5\n",
        "V = '{:03.2f}'.format((4/3)*math.pi*r**3)\n",
        "\n",
        "print('V =', V, 'u.a')"
      ],
      "execution_count": 41,
      "outputs": [
        {
          "output_type": "stream",
          "text": [
            "V = 523.60 u.a\n"
          ],
          "name": "stdout"
        }
      ]
    },
    {
      "cell_type": "markdown",
      "metadata": {
        "id": "N3FQAMd85MO5"
      },
      "source": [
        "**Exercício 3:**\n",
        "Suponha que o preço de um livro seja 24.95 reais, porém as livrarias têm desconto de 40%. Os custos de envio são de 3.00 reais para o primeiro livro e 0.75 reais para os livros adicionais. Qual é o custo total da compra de 60 livros?  \n"
      ]
    },
    {
      "cell_type": "code",
      "metadata": {
        "colab": {
          "base_uri": "https://localhost:8080/"
        },
        "id": "KRXggYUw6gtG",
        "outputId": "6269dd96-0a12-4e21-ec6a-7c41b917a9d3"
      },
      "source": [
        "#Resolução do exercicio 3 aula 2\n",
        "#Calculando o valor total caso os 40% sejam aplicados para cada livro\n",
        "preço_1livro = 24.95 # em reais\n",
        "Desconto = 0.4\n",
        "preço_com_desconto = Preço*Desconto\n",
        "envio_primeiro_livro = 3 # valor em reais\n",
        "envio_livros_adicionais = 0.75 # valor em reais\n",
        "num_livros_comprados = 60 \n",
        "\n",
        "preço_total = preço_com_desconto*num_livros_comprados\n",
        "envio_total = ((num_livros_comprados-1)*envio_livros_adicionais) + envio_primeiro_livro\n",
        "\n",
        "custo_total = '{:03.2f}'.format(preço_total + envio_total)\n",
        "\n",
        "print('custo total =', 'R$', custo_total)"
      ],
      "execution_count": 39,
      "outputs": [
        {
          "output_type": "stream",
          "text": [
            "custo total = R$ 646.05\n"
          ],
          "name": "stdout"
        }
      ]
    },
    {
      "cell_type": "markdown",
      "metadata": {
        "id": "kWZFds895SNj"
      },
      "source": [
        "**Exercício 4:**\n",
        "Um laser vermelho (com comprimento de onda $\\lambda = 632.8$ nm) incide em uma fenda dupla produzindo um padrão de interferência com franjas claras e escuras, em um anteparo situado a uma distância D = 1.98 m da fenda. Calcule a distância $\\Delta y$ entre dois máximos consecutivos de interferência. Considere o espaçamento entre as fendas, $d$, como sendo igual a 0.250 mm.\n",
        "*Dica: a distância entre dois máximos de interferência consecutivos pode ser aproximada por $\\Delta y = \\frac{\\lambda D}{d}$.*"
      ]
    },
    {
      "cell_type": "code",
      "metadata": {
        "id": "rn-nTgS7_-yO"
      },
      "source": [
        ""
      ],
      "execution_count": null,
      "outputs": []
    }
  ]
}