{
  "nbformat": 4,
  "nbformat_minor": 0,
  "metadata": {
    "colab": {
      "name": "Exercícios_aula03.ipynb",
      "provenance": [],
      "collapsed_sections": [],
      "authorship_tag": "ABX9TyNPOl0L4TcMqBTdwQn26ss4",
      "include_colab_link": true
    },
    "kernelspec": {
      "name": "python3",
      "display_name": "Python 3"
    },
    "language_info": {
      "name": "python"
    }
  },
  "cells": [
    {
      "cell_type": "markdown",
      "metadata": {
        "id": "view-in-github",
        "colab_type": "text"
      },
      "source": [
        "<a href=\"https://colab.research.google.com/github/cmartinsvi/Python_21.1/blob/main/Exerc%C3%ADcios_aula03.ipynb\" target=\"_parent\"><img src=\"https://colab.research.google.com/assets/colab-badge.svg\" alt=\"Open In Colab\"/></a>"
      ]
    },
    {
      "cell_type": "markdown",
      "metadata": {
        "id": "C9OopP49N5iZ"
      },
      "source": [
        "**Exercício1:**\n",
        "Crie uma funcão que tome um argumento e imprima o valor e o tipo dele."
      ]
    },
    {
      "cell_type": "code",
      "metadata": {
        "colab": {
          "base_uri": "https://localhost:8080/"
        },
        "id": "K2d6D7x2ODTf",
        "outputId": "d6699b5c-0e03-4a3c-b633-e613f4c3bf28"
      },
      "source": [
        "#definindo uma função soma de numeros x e y\n",
        "def soma(x,y): \n",
        "  soma = x + y\n",
        "  print(soma)\n",
        "\n",
        "print(type(soma))\n",
        "soma(2,1)"
      ],
      "execution_count": 2,
      "outputs": [
        {
          "output_type": "stream",
          "name": "stdout",
          "text": [
            "<class 'function'>\n",
            "3\n"
          ]
        }
      ]
    },
    {
      "cell_type": "markdown",
      "metadata": {
        "id": "MDBtYMviPzGR"
      },
      "source": [
        "**Exercício2:**\n",
        "Crie uma função que calcule e imprima velocidade media de um objeto a partir de uma posição inicial, a final e o tempo transcorrido para um objeto em MRU. Também crie uma funcão que calcule e imprima a velocidade de um objeto a partir da aceleração constante e o tempo (MRUA) (p.ex. queda libre)."
      ]
    },
    {
      "cell_type": "code",
      "metadata": {
        "id": "7sPYtNicP5et"
      },
      "source": [
        "'''\n",
        "Definindo uma função para a velocidade média de um objeto e o tempo transcorrido a partir de uma posição e tempo inicial e final no MRU\n",
        "\n",
        "a medida da função ira depender dos valores colocados se colocar posição em metros e tempo em segundos sua velocidade será em m/s e é analogo para outras medidas\n",
        "'''\n",
        "\n",
        "def velocidade_media(posicao_inicial,posicao_final,tempo_inicial,tempo_final): \n",
        "  \n",
        "  #definindo as váriaveis\n",
        "  posicao = posicao_final - posicao_inicial #variação da posição final e inicial (delta da posição)\n",
        "  tempo = tempo_final - tempo_inicial #variação do tempo final e inicial (delta do tempo)\n",
        "  velocidade_media = posicao/tempo \n",
        "\n",
        "  #printando os valores\n",
        "  print('Velocidade média =', round(velocidade_media,2),\n",
        "        '\\nTempo transcorrido =', tempo)\n"
      ],
      "execution_count": null,
      "outputs": []
    },
    {
      "cell_type": "code",
      "metadata": {
        "colab": {
          "base_uri": "https://localhost:8080/"
        },
        "id": "4hoM7GsG3p68",
        "outputId": "f3a70e91-cabe-47e3-ab7a-79752eca4ba4"
      },
      "source": [
        "velocidade_media(0,10,0,0.73)"
      ],
      "execution_count": null,
      "outputs": [
        {
          "output_type": "stream",
          "text": [
            "Velocidade média = 13.7 \n",
            "Tempo transcorrido = 0.73\n"
          ],
          "name": "stdout"
        }
      ]
    },
    {
      "cell_type": "markdown",
      "metadata": {
        "id": "rtVgtB9-Uz1y"
      },
      "source": [
        "**Exercício3:**\n",
        "Crie uma funcão para calcular o ángulo zenital do sol (da semana passada) tomando como argumento as medidas da altura e o comprimento da sombra."
      ]
    },
    {
      "cell_type": "code",
      "metadata": {
        "id": "R0w3iq9C_IlQ"
      },
      "source": [
        "from math import * #código de exemplo para impot math (importando tudo de uma vez)\n",
        "\n",
        "#definindo uma função para calcular o angulo zenital do sol\n",
        "def angulo_zenital_sol(altura,comprimento_sombra): \n",
        "  \n",
        "    angulo_radianos = atan(comprimento_sombra/altura) #angulo zenital em radianos\n",
        "    angulo_graus = angulo_radianos*(180/pi) #angulo zenital em graus\n",
        "\n",
        "    #printando os valores\n",
        "    print('Ângulo zenital =', round(angulo_radianos,2), 'radianos',\n",
        "          '\\nÂngulo zenital =', round(angulo_graus,2), 'graus')\n",
        "  "
      ],
      "execution_count": null,
      "outputs": []
    },
    {
      "cell_type": "code",
      "metadata": {
        "colab": {
          "base_uri": "https://localhost:8080/"
        },
        "id": "g6soB6ps_bCj",
        "outputId": "da41667c-2093-4778-f909-9a73bd073d4e"
      },
      "source": [
        "angulo_zenital_sol(5,0.5)"
      ],
      "execution_count": null,
      "outputs": [
        {
          "output_type": "stream",
          "text": [
            "Ângulo zenital = 0.1 radianos \n",
            "Ângulo zenital = 5.71 graus\n"
          ],
          "name": "stdout"
        }
      ]
    },
    {
      "cell_type": "markdown",
      "metadata": {
        "id": "EvQFpEWBVimf"
      },
      "source": [
        "**Exercício4:**\n",
        "Crie uma função que faça a conversão de uma medida inicialmente em milhas para m, e outra para o inverso; uma de horas para segundos, e o inverso. Utilize estas funções para resolver novamente o primeiro exercício da semana passada (da corrida). Se uma pessoa demora 30 minutos em 4 milhas, qual velocidade media em km/h ? e o tempo medio por kilometro?"
      ]
    },
    {
      "cell_type": "code",
      "metadata": {
        "id": "KvYZ8XD4Vo9P",
        "colab": {
          "base_uri": "https://localhost:8080/"
        },
        "outputId": "155d71a3-571b-40da-a0c4-6410865da3ba"
      },
      "source": [
        "# Definindo uma função que conferte valores de milhas para metros\n",
        "\n",
        "def miles_to_meters(valor_em_milhas):\n",
        "  valor_em_metros = valor_em_milhas * 1609.34\n",
        "  print('S=',valor_em_metros ,'meters')\n",
        "\n",
        "\n",
        "miles_to_meters(250)\n"
      ],
      "execution_count": null,
      "outputs": [
        {
          "output_type": "stream",
          "text": [
            "S= 402335.0 meters\n"
          ],
          "name": "stdout"
        }
      ]
    },
    {
      "cell_type": "code",
      "metadata": {
        "colab": {
          "base_uri": "https://localhost:8080/"
        },
        "id": "sgZvsoicyV14",
        "outputId": "d4b80a4b-03c8-4679-b898-b131b79c584b"
      },
      "source": [
        "# Definindo uma função que conferte valores de metros para milhas\n",
        "\n",
        "def meters_to_miles(valor_em_metros):\n",
        "  valor_em_milhas = valor_em_metros/1609.34\n",
        "  print('S =',valor_em_milhas,'miles')\n",
        "\n",
        "meters_to_miles(402335)"
      ],
      "execution_count": null,
      "outputs": [
        {
          "output_type": "stream",
          "text": [
            "S = 250.0 miles\n"
          ],
          "name": "stdout"
        }
      ]
    },
    {
      "cell_type": "code",
      "metadata": {
        "colab": {
          "base_uri": "https://localhost:8080/"
        },
        "id": "Jxicrz7oesmC",
        "outputId": "0032d5bd-5839-45a3-99d6-885cb244457c"
      },
      "source": [
        "# Definindo uma função que conferte valores de horas para segundos\n",
        "\n",
        "def hours_to_seconds(valor_em_horas):\n",
        "  valor_em_segundos = valor_em_horas * 3600\n",
        "  print('t=',valor_em_segundos,'seconds')\n",
        "\n",
        "hours_to_seconds(5)"
      ],
      "execution_count": null,
      "outputs": [
        {
          "output_type": "stream",
          "text": [
            "t= 18000 seconds\n"
          ],
          "name": "stdout"
        }
      ]
    },
    {
      "cell_type": "code",
      "metadata": {
        "colab": {
          "base_uri": "https://localhost:8080/"
        },
        "id": "JJ8cqUGBgLqo",
        "outputId": "9b2ec0f9-0cc1-4de5-f6ad-a206ce7dd01a"
      },
      "source": [
        "# Definindo uma função que conferte valores de segundos para horas\n",
        "\n",
        "def seconds_to_hours(valor_em_segundos):\n",
        "  valor_em_horas = valor_em_segundos/3600\n",
        "  print('t=',valor_em_horas,'hours')\n",
        "\n",
        "seconds_to_hours(5)"
      ],
      "execution_count": null,
      "outputs": [
        {
          "output_type": "stream",
          "text": [
            "t= 0.001388888888888889 hours\n"
          ],
          "name": "stdout"
        }
      ]
    },
    {
      "cell_type": "code",
      "metadata": {
        "id": "Byro0mJ4g_UV"
      },
      "source": [
        ""
      ],
      "execution_count": null,
      "outputs": []
    },
    {
      "cell_type": "markdown",
      "metadata": {
        "id": "EWxC4T19VpiH"
      },
      "source": [
        "**Exercício5:**\n",
        "Crie funções para calcular os outros exemplos das aulas anteriores: IMC, volume de uma esfera, distancia entre pontos de máximos de difração. Decida quais serão os argumentos e o valor retornado."
      ]
    },
    {
      "cell_type": "markdown",
      "metadata": {
        "id": "YaVsxesMhSny"
      },
      "source": [
        "**1:** Calcule o seu IMC:  $IMC=M/A^2$  (com a massa em Kg e a altura em metros). Um valor saudável estara --em geral-- entre 20-25. Um bebê de 6 meses \"gorducho\" tem 70 cm de \"comprimento\" e 11 kg de massa, qual o IMC dele?\n",
        "\n"
      ]
    },
    {
      "cell_type": "code",
      "metadata": {
        "colab": {
          "base_uri": "https://localhost:8080/"
        },
        "id": "RF0Nzp8Ohpy7",
        "outputId": "7aedb5a6-1df7-4eb5-f4bb-d5d2ee9db134"
      },
      "source": [
        "#defininco uma função para o calculo do IMC de uma pessoa\n",
        "'''\n",
        "Se o meu valor esta entre os numeros 20-25 eu sou considerada saudáve\n",
        "'''\n",
        "def indice_de_massa_corporal(peso_em_kg,altura_em_metros):\n",
        "  \n",
        "  #definindo a função\n",
        "  IMC = peso_em_kg/(altura_em_metros**2)\n",
        "  print('Indice de Massa Corporal =',round(IMC,2))\n",
        "  \n",
        "  #definindo as mesagens que devem ser enviadas para a pessoas segundo o seu IMC\n",
        "  if IMC < 20 :\n",
        "    print('Você está com o peso abaixo do recomendado')\n",
        "  if IMC > 25 :\n",
        "    print('Você está com o peso acima do recomendado')\n",
        "  else:\n",
        "    print('Você está saudável.')\n",
        "\n",
        "print('Meu IMC:')\n",
        "indice_de_massa_corporal(61,1.60) #Meu IMC\n",
        "\n",
        "def cm_to_m(valor_em_centimetros):\n",
        "  valor_em_metros = valor_em_centimetros/100\n",
        "  return valor_em_metros\n",
        "\n",
        "print('\\n')\n",
        "print('IMC de um bebe:')\n",
        "indice_de_massa_corporal(11,cm_to_m(70))\n"
      ],
      "execution_count": null,
      "outputs": [
        {
          "output_type": "stream",
          "text": [
            "Meu IMC:\n",
            "Indice de Massa Corporal = 23.83\n",
            "Você está saudável.\n",
            "\n",
            "\n",
            "IMC de um bebe:\n",
            "Indice de Massa Corporal = 22.45\n",
            "Você está saudável.\n"
          ],
          "name": "stdout"
        }
      ]
    },
    {
      "cell_type": "markdown",
      "metadata": {
        "id": "UFr5O-WBrMxC"
      },
      "source": [
        "**2:** O volume de uma esfera de raio *r* é $\\frac{4}{3} \\pi r^{3}$ \n",
        "\n",
        "Qual é o volume de uma esfera de raio 5?"
      ]
    },
    {
      "cell_type": "code",
      "metadata": {
        "colab": {
          "base_uri": "https://localhost:8080/"
        },
        "id": "X22KvkmYraud",
        "outputId": "f2bf57d0-7cc6-41da-c27e-d4e80c6c00eb"
      },
      "source": [
        "#definindo uma função para o volume de uma esfera\n",
        "from math import *\n",
        "\n",
        "def volume_esfera(raio):\n",
        "  v = (4*pi*(raio)**3)/(3)\n",
        "  print('Vulume da esfera =',round(v,2))\n",
        "\n",
        "volume_esfera(5)"
      ],
      "execution_count": null,
      "outputs": [
        {
          "output_type": "stream",
          "text": [
            "Vulume da esfera = 523.6\n"
          ],
          "name": "stdout"
        }
      ]
    },
    {
      "cell_type": "markdown",
      "metadata": {
        "id": "YPlGT46KsoSj"
      },
      "source": [
        "**3:** Um laser vermelho (com comprimento de onda $\\lambda = 632.8$ nm) incide em uma fenda dupla produzindo um padrão de interferência com franjas claras e escuras, em um anteparo situado a uma distância D = 1.98 m da fenda. Calcule a distância $\\Delta y$ entre dois máximos consecutivos de interferência. Considere o espaçamento entre as fendas, $d$, como sendo igual a 0.250 mm.\n",
        "*Dica: a distância entre dois máximos de interferência consecutivos pode ser aproximada por $\\Delta y = \\frac{\\lambda D}{d}$.*"
      ]
    },
    {
      "cell_type": "code",
      "metadata": {
        "id": "D9zelaT_s5OT",
        "colab": {
          "base_uri": "https://localhost:8080/"
        },
        "outputId": "eebcd1d4-5b88-4759-a594-da4a7e69039f"
      },
      "source": [
        "def nm_to_m(x):\n",
        "  y = x*10**(-9)\n",
        "  return y\n",
        "\n",
        "def mm_to_m(x):\n",
        "  y = x*10**(-3)\n",
        "  return y\n",
        "\n",
        "def distancia_maximos_difracao(comprimento_de_onda,espacamento_fendas,distancia_anteparo):\n",
        "  '''\n",
        "  Definindo uma função para distancia entre dois máximos de difração \n",
        "  essa função irá imprimir o valor em metros então:\n",
        "  comprimento_de_onda: em metros\n",
        "  espacamento_fendas: em metros\n",
        "  diatancia_anteparo: em metros\n",
        "  '''\n",
        "  d = (comprimento_de_onda* distancia_anteparo)/espacamento_fendas\n",
        "  print('Distância entre os máximos de difração=',round(d,3),'metros')\n",
        "\n",
        "distancia_maximos_difracao(nm_to_m(632.8),mm_to_m(0.250),1.98)\n"
      ],
      "execution_count": null,
      "outputs": [
        {
          "output_type": "stream",
          "text": [
            "Distância entre os máximos de difração= 0.005 metros\n"
          ],
          "name": "stdout"
        }
      ]
    }
  ]
}