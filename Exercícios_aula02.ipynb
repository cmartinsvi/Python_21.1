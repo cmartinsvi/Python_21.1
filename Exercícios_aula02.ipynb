{
  "nbformat": 4,
  "nbformat_minor": 0,
  "metadata": {
    "colab": {
      "name": "Exercícios_aula02.ipynb",
      "provenance": [],
      "collapsed_sections": [],
      "authorship_tag": "ABX9TyMdhdxEZOUIPDNSkxTscSJS",
      "include_colab_link": true
    },
    "kernelspec": {
      "name": "python3",
      "display_name": "Python 3"
    },
    "language_info": {
      "name": "python"
    }
  },
  "cells": [
    {
      "cell_type": "markdown",
      "metadata": {
        "id": "view-in-github",
        "colab_type": "text"
      },
      "source": [
        "<a href=\"https://colab.research.google.com/github/cmartinsvi/Python_21.1/blob/main/Exerc%C3%ADcios_aula02.ipynb\" target=\"_parent\"><img src=\"https://colab.research.google.com/assets/colab-badge.svg\" alt=\"Open In Colab\"/></a>"
      ]
    },
    {
      "cell_type": "markdown",
      "metadata": {
        "id": "AiZ5uF1u7kQM"
      },
      "source": [
        "**Exercício:**\n",
        "Digite as seguintes expressões e/ou declarações no prompt e veja o que elas fazem:\n",
        "* 5\n",
        "* x = 5\n",
        "* x + 1\n",
        "\n",
        "Em seguida, escreva um script com as declarações e compare a saída do script e do prompt. Modifique o script para que as saídas (do script e prompt) sejam iguais.\n"
      ]
    },
    {
      "cell_type": "code",
      "metadata": {
        "colab": {
          "base_uri": "https://localhost:8080/"
        },
        "id": "IOfgrUPy7pZm",
        "outputId": "e75444b7-ea94-4004-b695-fbd28cdd087c"
      },
      "source": [
        "5"
      ],
      "execution_count": null,
      "outputs": [
        {
          "output_type": "execute_result",
          "data": {
            "text/plain": [
              "5"
            ]
          },
          "metadata": {},
          "execution_count": 1
        }
      ]
    },
    {
      "cell_type": "code",
      "metadata": {
        "id": "89aa2jcy7rgS"
      },
      "source": [
        "x = 5"
      ],
      "execution_count": null,
      "outputs": []
    },
    {
      "cell_type": "code",
      "metadata": {
        "colab": {
          "base_uri": "https://localhost:8080/"
        },
        "id": "FYnGedF37tQ7",
        "outputId": "92aee314-de11-4a08-8f60-b1a336ec9aec"
      },
      "source": [
        "x + 1"
      ],
      "execution_count": null,
      "outputs": [
        {
          "output_type": "execute_result",
          "data": {
            "text/plain": [
              "6"
            ]
          },
          "metadata": {},
          "execution_count": 3
        }
      ]
    },
    {
      "cell_type": "code",
      "metadata": {
        "colab": {
          "base_uri": "https://localhost:8080/"
        },
        "id": "iRUbKVOv7zuE",
        "outputId": "da7e306e-7f78-419c-db57-0deafa150108"
      },
      "source": [
        "from google.colab import drive\n",
        "drive.mount('/gdrive')\n",
        "%cd /gdrive/"
      ],
      "execution_count": null,
      "outputs": [
        {
          "output_type": "stream",
          "text": [
            "Drive already mounted at /gdrive; to attempt to forcibly remount, call drive.mount(\"/gdrive\", force_remount=True).\n",
            "/gdrive\n"
          ],
          "name": "stdout"
        }
      ]
    },
    {
      "cell_type": "code",
      "metadata": {
        "colab": {
          "base_uri": "https://localhost:8080/"
        },
        "id": "AfDc2S1E71QF",
        "outputId": "34777636-552b-474d-9882-47a01e77e028"
      },
      "source": [
        "%cd /gdrive/My Drive/Colab Notebooks/Exercícios\n",
        "%ls #lista o diretório(mostra o que ta na pasta)\n",
        "# como rodar um script a partir do jupyter notebook:\n",
        "%run -i Exemplo2.py"
      ],
      "execution_count": null,
      "outputs": [
        {
          "output_type": "stream",
          "text": [
            "/gdrive/My Drive/Colab Notebooks/Exercícios\n",
            "Exemplo2.py              Exercícios_aula02.ipynb\n",
            "Exercícios_aula01.ipynb  Exercícios_aula03.ipynb\n",
            "5\n",
            "5\n",
            "6\n"
          ],
          "name": "stdout"
        }
      ]
    },
    {
      "cell_type": "markdown",
      "metadata": {
        "id": "JkI_1Dqb0bng"
      },
      "source": [
        "**Exercício 1:**\n",
        "Considere as seguintes declarações de atribuições:\n",
        "   * largura = 17 \n",
        "   * altura = 12.0\n",
        "   * delimitador = \".\"\n",
        "   \n",
        "Para cada uma das expressões a seguir, escreva o valor das expressões e o tipo (do valor da expressão):\n",
        "1. largura/2 = 8.5 (float)\n",
        "1. largura/2.0 = 8.5 (float)\n",
        "1. altura/3 = 4 (float)\n",
        "1. 1 + 2 * 5 = 11 (int)\n",
        "1. delimitador*5 = ..... (str)\n",
        "\n",
        "Use o interpretador de python para verificar suas respostas."
      ]
    },
    {
      "cell_type": "code",
      "metadata": {
        "colab": {
          "base_uri": "https://localhost:8080/"
        },
        "id": "FYdzXJb60rW5",
        "outputId": "7900ba24-28db-47f2-8fb2-dddb124d21ad"
      },
      "source": [
        "#Resolução do exercicio da aula 2\n",
        "largura = 17\n",
        "altura = 12.0\n",
        "delimitador = \".\"\n",
        "\n",
        "a = largura/2\n",
        "b = largura/2.0\n",
        "c = altura/3\n",
        "d = 1+2*5\n",
        "e = delimitador*5\n",
        "\n",
        "print('largura/2 =',a, \n",
        "      '\\n', type(a))\n",
        "\n",
        "print('\\n largura/2.0 =',b, \n",
        "      '\\n', type(b))\n",
        "\n",
        "print('\\n altura/3 =',c,\n",
        "      '\\n', type(c)) \n",
        "\n",
        "print('\\n 1 + 2 * 5 =', d,\n",
        "      '\\n', type(d))\n",
        "\n",
        "print('\\n delimitador * 5 =',e,\n",
        "      '\\n', type(e))"
      ],
      "execution_count": null,
      "outputs": [
        {
          "output_type": "stream",
          "text": [
            "largura/2 = 8.5 \n",
            " <class 'float'>\n",
            "\n",
            " largura/2.0 = 8.5 \n",
            " <class 'float'>\n",
            "\n",
            " altura/3 = 4.0 \n",
            " <class 'float'>\n",
            "\n",
            " 1 + 2 * 5 = 11 \n",
            " <class 'int'>\n",
            "\n",
            " delimitador * 5 = ..... \n",
            " <class 'str'>\n"
          ],
          "name": "stdout"
        }
      ]
    },
    {
      "cell_type": "markdown",
      "metadata": {
        "id": "lmX_xsfc45pj"
      },
      "source": [
        "**Exercício 2:**\n",
        "\n",
        "> Bloco com recuo\n",
        "\n",
        "\n",
        "O volume de uma esfera de raio *r* é $\\frac{4}{3} \\pi r^{3}$ \n",
        "\n",
        "Qual é o volume de uma esfera de raio 5?\n",
        "\n"
      ]
    },
    {
      "cell_type": "code",
      "metadata": {
        "colab": {
          "base_uri": "https://localhost:8080/"
        },
        "id": "1e-4w04R5TSh",
        "outputId": "b89c23b3-c774-4104-cc13-f29773b2b7b6"
      },
      "source": [
        "#Calculando o volume de uma esfera de raio 5\n",
        "from math import *\n",
        "r = 5\n",
        "V = (4/3)*pi*r**3\n",
        "\n",
        "print('V =', '{:03.2f}'.format(V), 'u.a')"
      ],
      "execution_count": null,
      "outputs": [
        {
          "output_type": "stream",
          "text": [
            "V = 523.60 u.a\n"
          ],
          "name": "stdout"
        }
      ]
    },
    {
      "cell_type": "markdown",
      "metadata": {
        "id": "N3FQAMd85MO5"
      },
      "source": [
        "**Exercício 3:**\n",
        "Suponha que o preço de um livro seja 24.95 reais, porém as livrarias têm desconto de 40%. Os custos de envio são de 3.00 reais para o primeiro livro e 0.75 reais para os livros adicionais. Qual é o custo total da compra de 60 livros?  \n"
      ]
    },
    {
      "cell_type": "code",
      "metadata": {
        "colab": {
          "base_uri": "https://localhost:8080/"
        },
        "id": "KRXggYUw6gtG",
        "outputId": "be6ae1c7-5170-4700-940e-44410d5c71fd"
      },
      "source": [
        "#Resolução do exercicio 3 aula 2\n",
        "#Calculando o valor total caso os 40% sejam aplicados para cada livro\n",
        "preço_1livro = 24.95 # em reais\n",
        "desconto = 0.4\n",
        "preço_com_desconto = preço_1livro*desconto\n",
        "envio_primeiro_livro = 3 # valor em reais\n",
        "envio_livros_adicionais = 0.75 # valor em reais\n",
        "num_livros_comprados = 60 \n",
        "\n",
        "preço_total = preço_com_desconto*num_livros_comprados\n",
        "envio_total = ((num_livros_comprados-1)*envio_livros_adicionais) + envio_primeiro_livro\n",
        "\n",
        "custo_total = preço_total + envio_total\n",
        "\n",
        "print('custo total =', 'R$', round(custo_total,2))"
      ],
      "execution_count": null,
      "outputs": [
        {
          "output_type": "stream",
          "text": [
            "custo total = R$ 646.05\n"
          ],
          "name": "stdout"
        }
      ]
    },
    {
      "cell_type": "markdown",
      "metadata": {
        "id": "kWZFds895SNj"
      },
      "source": [
        "**Exercício 4:**\n",
        "Um laser vermelho (com comprimento de onda $\\lambda = 632.8$ nm) incide em uma fenda dupla produzindo um padrão de interferência com franjas claras e escuras, em um anteparo situado a uma distância D = 1.98 m da fenda. Calcule a distância $\\Delta y$ entre dois máximos consecutivos de interferência. Considere o espaçamento entre as fendas, $d$, como sendo igual a 0.250 mm.\n",
        "*Dica: a distância entre dois máximos de interferência consecutivos pode ser aproximada por $\\Delta y = \\frac{\\lambda D}{d}$.*"
      ]
    },
    {
      "cell_type": "code",
      "metadata": {
        "id": "rn-nTgS7_-yO",
        "colab": {
          "base_uri": "https://localhost:8080/"
        },
        "outputId": "6751a8a7-74db-4de5-968e-a975513fcd97"
      },
      "source": [
        "#Distância entre dois máximos consecutivos de interferencia\n",
        "comprimento_de_onda = 632.8 #nanometros\n",
        "comprimento_de_onda2 = comprimento_de_onda* 10**(-9) #metros\n",
        "distancia_do_anteparo = 1.98 #metros\n",
        "espaçamento_das_fendas = 0.250 #milimetros\n",
        "espaçamento_das_fendas2 = espaçamento_das_fendas * 10**(-3) #metros\n",
        "distancia_entre_dois_maximos = (comprimento_de_onda2*distancia_do_anteparo)/espaçamento_das_fendas2 #metros\n",
        "distancia_entre_dois_maximos2 = ((comprimento_de_onda2*distancia_do_anteparo)/espaçamento_das_fendas2)*1000 #milimetro\n",
        "\n",
        "print('Dintância entre dois máximos de interferência =', round(distancia_entre_dois_maximos,3), 'metros')\n",
        "print('Dintância entre dois máximos de interferência =', round(distancia_entre_dois_maximos2,2), 'milímetros')"
      ],
      "execution_count": 1,
      "outputs": [
        {
          "output_type": "stream",
          "text": [
            "Dintância entre dois máximos de interferência = 0.005 metros\n",
            "Dintância entre dois máximos de interferência = 5.01 milímetros\n"
          ],
          "name": "stdout"
        }
      ]
    }
  ]
}