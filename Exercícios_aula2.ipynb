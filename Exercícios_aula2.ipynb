{
  "nbformat": 4,
  "nbformat_minor": 0,
  "metadata": {
    "colab": {
      "name": "Exercícios_aula2.ipynb",
      "provenance": [],
      "collapsed_sections": [],
      "authorship_tag": "ABX9TyOXGpfjeH2ZKuIbmmjwSnvY",
      "include_colab_link": true
    },
    "kernelspec": {
      "name": "python3",
      "display_name": "Python 3"
    },
    "language_info": {
      "name": "python"
    }
  },
  "cells": [
    {
      "cell_type": "markdown",
      "metadata": {
        "id": "view-in-github",
        "colab_type": "text"
      },
      "source": [
        "<a href=\"https://colab.research.google.com/github/cmartinsvi/Python_21.1/blob/main/Exerc%C3%ADcios_aula2.ipynb\" target=\"_parent\"><img src=\"https://colab.research.google.com/assets/colab-badge.svg\" alt=\"Open In Colab\"/></a>"
      ]
    },
    {
      "cell_type": "markdown",
      "metadata": {
        "id": "JkI_1Dqb0bng"
      },
      "source": [
        "**Exercício 1:**\n",
        "Considere as seguintes declarações de atribuições:\n",
        "   * largura = 17 \n",
        "   * altura = 12.0\n",
        "   * delimitador = \".\"\n",
        "   \n",
        "Para cada uma das expressões a seguir, escreva o valor das expressões e o tipo (do valor da expressão):\n",
        "1. largura/2 = 8.5 (float)\n",
        "1. largura/2.0 = 8.5 (float)\n",
        "1. altura/3 = 4 (float)\n",
        "1. 1 + 2 * 5 = 11 (int)\n",
        "1. delimitador*5 = ..... (str)\n",
        "\n",
        "Use o interpretador de python para verificar suas respostas."
      ]
    },
    {
      "cell_type": "code",
      "metadata": {
        "colab": {
          "base_uri": "https://localhost:8080/"
        },
        "id": "FYdzXJb60rW5",
        "outputId": "7900ba24-28db-47f2-8fb2-dddb124d21ad"
      },
      "source": [
        "#Resolução do exercicio da aula 2\n",
        "largura = 17\n",
        "altura = 12.0\n",
        "delimitador = \".\"\n",
        "\n",
        "a = largura/2\n",
        "b = largura/2.0\n",
        "c = altura/3\n",
        "d = 1+2*5\n",
        "e = delimitador*5\n",
        "\n",
        "print('largura/2 =',a, \n",
        "      '\\n', type(a))\n",
        "\n",
        "print('\\n largura/2.0 =',b, \n",
        "      '\\n', type(b))\n",
        "\n",
        "print('\\n altura/3 =',c,\n",
        "      '\\n', type(c)) \n",
        "\n",
        "print('\\n 1 + 2 * 5 =', d,\n",
        "      '\\n', type(d))\n",
        "\n",
        "print('\\n delimitador * 5 =',e,\n",
        "      '\\n', type(e))"
      ],
      "execution_count": 10,
      "outputs": [
        {
          "output_type": "stream",
          "text": [
            "largura/2 = 8.5 \n",
            " <class 'float'>\n",
            "\n",
            " largura/2.0 = 8.5 \n",
            " <class 'float'>\n",
            "\n",
            " altura/3 = 4.0 \n",
            " <class 'float'>\n",
            "\n",
            " 1 + 2 * 5 = 11 \n",
            " <class 'int'>\n",
            "\n",
            " delimitador * 5 = ..... \n",
            " <class 'str'>\n"
          ],
          "name": "stdout"
        }
      ]
    },
    {
      "cell_type": "markdown",
      "metadata": {
        "id": "lmX_xsfc45pj"
      },
      "source": [
        "**Exercício 2:**\n",
        "O volume de uma esfera de raio *r* é $\\frac{4}{3} \\pi r^{3}$ \n",
        "\n",
        "Qual é o volume de uma esfera de raio 5?\n",
        "\n"
      ]
    },
    {
      "cell_type": "code",
      "metadata": {
        "colab": {
          "base_uri": "https://localhost:8080/"
        },
        "id": "1e-4w04R5TSh",
        "outputId": "96e068b4-1ebe-4df8-c484-a15ff8fc8d21"
      },
      "source": [
        "#Calculando o volume de uma esfera de raio 5\n",
        "import math\n",
        "r = 5\n",
        "V = (4/3)*math.pi*r**3\n",
        "\n",
        "print('V =', '{:03.2f}'.format(V), 'u.a')"
      ],
      "execution_count": null,
      "outputs": [
        {
          "output_type": "stream",
          "text": [
            "V = 523.60 u.a\n"
          ],
          "name": "stdout"
        }
      ]
    },
    {
      "cell_type": "markdown",
      "metadata": {
        "id": "N3FQAMd85MO5"
      },
      "source": [
        "**Exercício 3:**\n",
        "Suponha que o preço de um livro seja 24.95 reais, porém as livrarias têm desconto de 40%. Os custos de envio são de 3.00 reais para o primeiro livro e 0.75 reais para os livros adicionais. Qual é o custo total da compra de 60 livros?  \n"
      ]
    },
    {
      "cell_type": "code",
      "metadata": {
        "colab": {
          "base_uri": "https://localhost:8080/"
        },
        "id": "KRXggYUw6gtG",
        "outputId": "2ffedc3a-d8b2-4df1-ba35-6dd0597a69bc"
      },
      "source": [
        "#Resolução do exercicio 3 aula 2\n",
        "#Calculando o valor total caso os 40% sejam aplicados para cada livro\n",
        "preço_1livro = 24.95 # em reais\n",
        "desconto = 0.4\n",
        "preço_com_desconto = preço_1livro*desconto\n",
        "envio_primeiro_livro = 3 # valor em reais\n",
        "envio_livros_adicionais = 0.75 # valor em reais\n",
        "num_livros_comprados = 60 \n",
        "\n",
        "preço_total = preço_com_desconto*num_livros_comprados\n",
        "envio_total = ((num_livros_comprados-1)*envio_livros_adicionais) + envio_primeiro_livro\n",
        "\n",
        "custo_total = preço_total + envio_total\n",
        "\n",
        "print('custo total =', 'R$', '{:03.2f}'.format(custo_total))"
      ],
      "execution_count": null,
      "outputs": [
        {
          "output_type": "stream",
          "text": [
            "custo total = R$ 646.05\n"
          ],
          "name": "stdout"
        }
      ]
    },
    {
      "cell_type": "markdown",
      "metadata": {
        "id": "kWZFds895SNj"
      },
      "source": [
        "**Exercício 4:**\n",
        "Um laser vermelho (com comprimento de onda $\\lambda = 632.8$ nm) incide em uma fenda dupla produzindo um padrão de interferência com franjas claras e escuras, em um anteparo situado a uma distância D = 1.98 m da fenda. Calcule a distância $\\Delta y$ entre dois máximos consecutivos de interferência. Considere o espaçamento entre as fendas, $d$, como sendo igual a 0.250 mm.\n",
        "*Dica: a distância entre dois máximos de interferência consecutivos pode ser aproximada por $\\Delta y = \\frac{\\lambda D}{d}$.*"
      ]
    },
    {
      "cell_type": "code",
      "metadata": {
        "id": "rn-nTgS7_-yO",
        "colab": {
          "base_uri": "https://localhost:8080/"
        },
        "outputId": "69f3acae-d19f-48c1-fee7-82bc54731b1c"
      },
      "source": [
        "#Distância entre dois máximos consecutivos de interferencia\n",
        "comprimento_de_onda = 632.8 #nanometros\n",
        "comprimento_de_onda2 = comprimento_de_onda* 10**(-9) #metros\n",
        "distancia_do_anteparo = 1.98 #metros\n",
        "espaçamento_das_fendas = 0.250 #milimetros\n",
        "espaçamento_das_fendas2 = espaçamento_das_fendas * 10**(-3) #metros\n",
        "distancia_entre_dois_maximos = (comprimento_de_onda2*distancia_do_anteparo)/espaçamento_das_fendas2 #metros\n",
        "distancia_entre_dois_maximos2 = ((comprimento_de_onda2*distancia_do_anteparo)/espaçamento_das_fendas2)*1000 #milimetro\n",
        "\n",
        "print('Dintância entre dois máximos de interferência =', '{:01.4f}'.format(distancia_entre_dois_maximos), 'metros')\n",
        "print('Dintância entre dois máximos de interferência =', '{:01.2f}'.format(distancia_entre_dois_maximos2), 'milímetros')"
      ],
      "execution_count": null,
      "outputs": [
        {
          "output_type": "stream",
          "text": [
            "Dintância entre dois máximos de interferência = 0.0050 metros\n",
            "Dintância entre dois máximos de interferência = 5.01 milímetros\n"
          ],
          "name": "stdout"
        }
      ]
    }
  ]
}