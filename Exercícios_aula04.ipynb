{
  "nbformat": 4,
  "nbformat_minor": 0,
  "metadata": {
    "colab": {
      "name": "Exercícios_aula04.ipynb",
      "provenance": [],
      "collapsed_sections": [],
      "authorship_tag": "ABX9TyMMdVglqImVtYNqKM+UD5IC",
      "include_colab_link": true
    },
    "kernelspec": {
      "name": "python3",
      "display_name": "Python 3"
    },
    "language_info": {
      "name": "python"
    }
  },
  "cells": [
    {
      "cell_type": "markdown",
      "metadata": {
        "id": "view-in-github",
        "colab_type": "text"
      },
      "source": [
        "<a href=\"https://colab.research.google.com/github/cmartinsvi/Python_21.1/blob/main/Exerc%C3%ADcios_aula04.ipynb\" target=\"_parent\"><img src=\"https://colab.research.google.com/assets/colab-badge.svg\" alt=\"Open In Colab\"/></a>"
      ]
    },
    {
      "cell_type": "markdown",
      "metadata": {
        "id": "Br3k8E0lOA13"
      },
      "source": [
        "**Exercício 1:**\n",
        "   \n",
        "   - Escreva uma função com um valor de retorno que:\n",
        "      * tome como _input_ dois argumentos;\n",
        "      * execute a soma dos dois parâmetros que foram passados como argumento e atribua o resultado a uma variável;\n",
        "      * tenha como valor de retorno o dobro da soma dos dois parâmetros."
      ]
    },
    {
      "cell_type": "code",
      "metadata": {
        "colab": {
          "base_uri": "https://localhost:8080/"
        },
        "id": "NZPEPtKQNm2z",
        "outputId": "9980f426-6279-44d6-d2b0-1766b9c2e05e"
      },
      "source": [
        "def soma(x,y):\n",
        "  z = x + y\n",
        "  w = 2*z\n",
        "  print(w)\n",
        "\n",
        "soma(1,2) "
      ],
      "execution_count": 2,
      "outputs": [
        {
          "output_type": "stream",
          "name": "stdout",
          "text": [
            "6\n"
          ]
        }
      ]
    },
    {
      "cell_type": "markdown",
      "metadata": {
        "id": "iDhvOsnAgKUz"
      },
      "source": [
        "**Exercício 2:** \n",
        "   \n",
        "  Um objeto de função é um valor que você pode atribuir a uma variável ou passar como um argumento. Por exemplo, ```do_twice``` é uma função que usa um objeto de função como argumento e o chama duas vezes:\n",
        "\n",
        "- Para este exercício :\n",
        "\n",
        "  a.  Digite este exemplo em um script e teste-o.\n",
        "\n",
        "  b. Modifique ```do_twice``` para que sejam necessários dois argumentos, um objeto de função ``f`` e um valor ``x``, e chame a função duas vezes, passando o valor como um argumento.\n",
        "\n",
        "  c. Escreva uma versão mais geral de ```print_spam```, chamada ```print_twice```, que use uma _string_ como parâmetro e imprima duas vezes.\n",
        "\n",
        "  d. Use a versão modificada (no item b) de ``` do_twice``` para chamar ```print_twice``` duas vezes, passando ```'spam'``` como um argumento.\n",
        "\n",
        "  e. Defina uma nova função chamada ```do_four``` que recebe um objeto de função e um valor e chama a função ___quatro___ vezes, passando o valor como um parâmetro. Deve haver apenas duas declarações no corpo desta função, e não quatro.\n"
      ]
    },
    {
      "cell_type": "code",
      "metadata": {
        "id": "AxK70oHoVTwf"
      },
      "source": [
        "def do_twice (f): \n",
        "  '''\n",
        "  Uma função que chama outra função 2 vezes\n",
        "  '''\n",
        "  f () \n",
        "  f ()"
      ],
      "execution_count": 8,
      "outputs": []
    },
    {
      "cell_type": "markdown",
      "metadata": {
        "id": "xDihDObLgdma"
      },
      "source": [
        "Aqui está um exemplo que usa do_twice para chamar uma função chamada print_spam duas vezes."
      ]
    },
    {
      "cell_type": "code",
      "metadata": {
        "colab": {
          "base_uri": "https://localhost:8080/"
        },
        "id": "dgN5IIYngqtp",
        "outputId": "d597b67d-9578-46d4-f5bf-63d8800d8650"
      },
      "source": [
        "def print_spam (): \n",
        "    print('spam') \n",
        "\n",
        "do_twice (print_spam)"
      ],
      "execution_count": 9,
      "outputs": [
        {
          "output_type": "stream",
          "name": "stdout",
          "text": [
            "spam\n",
            "spam\n"
          ]
        }
      ]
    },
    {
      "cell_type": "markdown",
      "metadata": {
        "id": "czAzC14fn9Bp"
      },
      "source": [
        "b. Modifique do_twice para que sejam necessários dois argumentos, um objeto de função f e um valor x, e chame a função duas vezes, passando o valor como um argumento."
      ]
    },
    {
      "cell_type": "code",
      "metadata": {
        "id": "HQ5Ctn5Pn-cC"
      },
      "source": [
        "def do_twice(f,x):\n",
        "  '''\n",
        "  Uma função que executa uma outra função f dentro dela\n",
        "  onde x será o valor que f vai obter como argumento\n",
        "  '''\n",
        "  f(x)\n",
        "  f(x)\n"
      ],
      "execution_count": 10,
      "outputs": []
    },
    {
      "cell_type": "markdown",
      "metadata": {
        "id": "Op9ZeLHJpHd4"
      },
      "source": [
        "c. Escreva uma versão mais geral de print_spam, chamada print_twice, que use uma string como parâmetro e imprima duas vezes."
      ]
    },
    {
      "cell_type": "code",
      "metadata": {
        "colab": {
          "base_uri": "https://localhost:8080/"
        },
        "id": "xcA0M0UOpJIh",
        "outputId": "d6a11eef-f67a-40b5-f1d0-7683f3a1b524"
      },
      "source": [
        "def print_twice(x):\n",
        "  print(x)\n",
        "  print(x)\n",
        "\n",
        "print_twice('spam')"
      ],
      "execution_count": 13,
      "outputs": [
        {
          "output_type": "stream",
          "name": "stdout",
          "text": [
            "spam\n",
            "spam\n"
          ]
        }
      ]
    },
    {
      "cell_type": "markdown",
      "metadata": {
        "id": "niwo2EiDpmue"
      },
      "source": [
        "d. Use a versão modificada (no item b) de do_twice para chamar print_twice duas vezes, passando 'spam' como um argumento.d. Use a versão modificada (no item b) de do_twice para chamar print_twice duas vezes, passando 'spam' como um argumento."
      ]
    },
    {
      "cell_type": "code",
      "metadata": {
        "colab": {
          "base_uri": "https://localhost:8080/"
        },
        "id": "7-g2F9CopoTw",
        "outputId": "4b6a57a5-dd6a-4b51-b0ef-7482f44fac9b"
      },
      "source": [
        "do_twice(print_twice,'spam')"
      ],
      "execution_count": 14,
      "outputs": [
        {
          "output_type": "stream",
          "name": "stdout",
          "text": [
            "spam\n",
            "spam\n",
            "spam\n",
            "spam\n"
          ]
        }
      ]
    },
    {
      "cell_type": "markdown",
      "metadata": {
        "id": "d45a0UjBpztD"
      },
      "source": [
        "e. Defina uma nova função chamada do_four que recebe um objeto de função e um valor e chama a função quatro vezes, passando o valor como um parâmetro. Deve haver apenas duas declarações no corpo desta função, e não quatro."
      ]
    },
    {
      "cell_type": "code",
      "metadata": {
        "colab": {
          "base_uri": "https://localhost:8080/"
        },
        "id": "oBdiA7ohpzbT",
        "outputId": "cb72be58-9e19-49dc-c2a8-e79a1d806013"
      },
      "source": [
        "def do_four(f,x):\n",
        "  do_twice(f,x)\n",
        "  do_twice(f,x)\n",
        "\n",
        "do_four(print_twice,'spam')"
      ],
      "execution_count": 16,
      "outputs": [
        {
          "output_type": "stream",
          "name": "stdout",
          "text": [
            "spam\n",
            "spam\n",
            "spam\n",
            "spam\n",
            "spam\n",
            "spam\n",
            "spam\n",
            "spam\n"
          ]
        }
      ]
    }
  ]
}