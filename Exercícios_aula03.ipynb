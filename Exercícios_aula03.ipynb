{
  "nbformat": 4,
  "nbformat_minor": 0,
  "metadata": {
    "colab": {
      "name": "Exercícios_aula03.ipynb",
      "provenance": [],
      "collapsed_sections": [],
      "authorship_tag": "ABX9TyM8boJvFCv4SxiTFZzb84yd",
      "include_colab_link": true
    },
    "kernelspec": {
      "name": "python3",
      "display_name": "Python 3"
    },
    "language_info": {
      "name": "python"
    }
  },
  "cells": [
    {
      "cell_type": "markdown",
      "metadata": {
        "id": "view-in-github",
        "colab_type": "text"
      },
      "source": [
        "<a href=\"https://colab.research.google.com/github/cmartinsvi/Python_21.1/blob/main/Exerc%C3%ADcios_aula03.ipynb\" target=\"_parent\"><img src=\"https://colab.research.google.com/assets/colab-badge.svg\" alt=\"Open In Colab\"/></a>"
      ]
    },
    {
      "cell_type": "markdown",
      "metadata": {
        "id": "C9OopP49N5iZ"
      },
      "source": [
        "**Exercício1:**\n",
        "Crie uma funcão que tome um argumento e imprima o valor e o tipo dele."
      ]
    },
    {
      "cell_type": "code",
      "metadata": {
        "colab": {
          "base_uri": "https://localhost:8080/"
        },
        "id": "K2d6D7x2ODTf",
        "outputId": "78d16774-375d-4ec7-8a9d-219290ebc450"
      },
      "source": [
        "def soma(x,y): #essa função irá somar numeros x e y\n",
        "  soma = x + y\n",
        "  print(soma)\n",
        "\n",
        "print(soma)\n",
        "soma(2,1)"
      ],
      "execution_count": null,
      "outputs": [
        {
          "output_type": "stream",
          "text": [
            "<function soma at 0x7f8f5fb41320>\n",
            "3\n"
          ],
          "name": "stdout"
        }
      ]
    },
    {
      "cell_type": "markdown",
      "metadata": {
        "id": "MDBtYMviPzGR"
      },
      "source": [
        "**Exercício2:**\n",
        "Crie uma função que calcule e imprima velocidade media de um objeto a partir de uma posição inicial, a final e o tempo transcorrido para um objeto em MRU. Também crie uma funcão que calcule e imprima a velocidade de um objeto a partir da aceleração constante e o tempo (MRUA) (p.ex. queda libre)."
      ]
    },
    {
      "cell_type": "code",
      "metadata": {
        "colab": {
          "base_uri": "https://localhost:8080/"
        },
        "id": "7sPYtNicP5et",
        "outputId": "6a75b1d4-62bf-4039-cee1-9b0f62fbb9c4"
      },
      "source": [
        "def velocidade_media(posicao_inicial,posicao_final,tempo_inicial,tempo_final): #velocidade média de um objeto a partir de uma posição inicial, a final MRU\n",
        "  posicao = posicao_final - posicao_inicial\n",
        "  tempo = tempo_final - tempo_inicial\n",
        "  velocidade_media = posicao/tempo\n",
        "  print('Velocidade média =', velocidade_media,\n",
        "        2*'\\n','Tempo transcorrido =', tempo)\n",
        "\n",
        "\n",
        "velocidade_media(0,10,0,0.73)"
      ],
      "execution_count": 5,
      "outputs": [
        {
          "output_type": "stream",
          "text": [
            "Velocidade média = 13.698630136986301 \n",
            "\n",
            " Tempo transcorrido = 0.73\n"
          ],
          "name": "stdout"
        }
      ]
    },
    {
      "cell_type": "markdown",
      "metadata": {
        "id": "rtVgtB9-Uz1y"
      },
      "source": [
        "**Exercício3:**\n",
        "Crie uma funcão para calcular o ángulo zenital do sol (da semana passada) tomando como argumento as medidas da altura e o comprimento da sombra."
      ]
    },
    {
      "cell_type": "code",
      "metadata": {
        "id": "2E5Eot-KVfxt"
      },
      "source": [
        ""
      ],
      "execution_count": null,
      "outputs": []
    },
    {
      "cell_type": "markdown",
      "metadata": {
        "id": "EvQFpEWBVimf"
      },
      "source": [
        "**Exercício4:**\n",
        "Crie uma função que faça a conversão de uma medida inicialmente em milhas para m, e outra para o inverso; uma de horas para segundos, e o inverso. Utilize estas funções para resolver novamente o primeiro exercício da semana passada (da corrida). Se uma pessoa demora 30 minutos em 4 milhas, qual velocidade media em km/h ? e o tempo medio por kilometro?"
      ]
    },
    {
      "cell_type": "code",
      "metadata": {
        "id": "KvYZ8XD4Vo9P"
      },
      "source": [
        ""
      ],
      "execution_count": null,
      "outputs": []
    },
    {
      "cell_type": "markdown",
      "metadata": {
        "id": "EWxC4T19VpiH"
      },
      "source": [
        "**Exercício5:**\n",
        "Crie funções para calcular os outros exemplos das aulas anteriores: IMC, volume de uma esfera, distancia entre pontos de máximos de difração. Decida quais serão os argumentos e o valor retornado."
      ]
    },
    {
      "cell_type": "code",
      "metadata": {
        "id": "Be_mWZ0JVxny"
      },
      "source": [
        ""
      ],
      "execution_count": null,
      "outputs": []
    }
  ]
}