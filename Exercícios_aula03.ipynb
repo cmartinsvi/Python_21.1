{
  "nbformat": 4,
  "nbformat_minor": 0,
  "metadata": {
    "colab": {
      "name": "Exercícios_aula03.ipynb",
      "provenance": [],
      "collapsed_sections": [],
      "authorship_tag": "ABX9TyPvhBA72D+0MymRqFZ5Y53y",
      "include_colab_link": true
    },
    "kernelspec": {
      "name": "python3",
      "display_name": "Python 3"
    },
    "language_info": {
      "name": "python"
    }
  },
  "cells": [
    {
      "cell_type": "markdown",
      "metadata": {
        "id": "view-in-github",
        "colab_type": "text"
      },
      "source": [
        "<a href=\"https://colab.research.google.com/github/cmartinsvi/Python_21.1/blob/main/Exerc%C3%ADcios_aula03.ipynb\" target=\"_parent\"><img src=\"https://colab.research.google.com/assets/colab-badge.svg\" alt=\"Open In Colab\"/></a>"
      ]
    },
    {
      "cell_type": "markdown",
      "metadata": {
        "id": "C9OopP49N5iZ"
      },
      "source": [
        "**Exercício1:**\n",
        "Crie uma funcão que tome um argumento e imprima o valor e o tipo dele."
      ]
    },
    {
      "cell_type": "code",
      "metadata": {
        "colab": {
          "base_uri": "https://localhost:8080/"
        },
        "id": "K2d6D7x2ODTf",
        "outputId": "78d16774-375d-4ec7-8a9d-219290ebc450"
      },
      "source": [
        "def soma(x,y): #essa função irá somar numeros x e y\n",
        "  soma = x + y\n",
        "  print(soma)\n",
        "\n",
        "print(soma)\n",
        "soma(2,1)"
      ],
      "execution_count": 2,
      "outputs": [
        {
          "output_type": "stream",
          "text": [
            "<function soma at 0x7f8f5fb41320>\n",
            "3\n"
          ],
          "name": "stdout"
        }
      ]
    },
    {
      "cell_type": "markdown",
      "metadata": {
        "id": "MDBtYMviPzGR"
      },
      "source": [
        "**Exercício2:**\n",
        "Crie uma função que calcule e imprima velocidade media de um objeto a partir de uma posição inicial, a final e o tempo transcorrido para um objeto em MRU. Também crie uma funcão que calcule e imprima a velocidade de um objeto a partir da aceleração constante e o tempo (MRUA) (p.ex. queda libre)."
      ]
    },
    {
      "cell_type": "code",
      "metadata": {
        "colab": {
          "base_uri": "https://localhost:8080/"
        },
        "id": "7sPYtNicP5et",
        "outputId": "3206a0ab-3a26-49ee-c72f-01a7a432dd58"
      },
      "source": [
        "def velocidade_media(posicao_inicial,posicao_final,tempo_inicial,tempo_final): #velocidade média de um objeto a partir de uma posição inicial, a final\n",
        "  posicao = posicao_final - posicao_inicial\n",
        "  tempo = tempo_final - tempo_inicial\n",
        "  velocidade_media = posicao/tempo\n",
        "  print('velocidade média =', velocidade_media,\n",
        "        2*'\\n','tempo transcorrido =', tempo)\n",
        "  \n",
        "print(velocidade_media, ' \\n')\n",
        "velocidade_media(0,10,0,0.73)"
      ],
      "execution_count": 17,
      "outputs": [
        {
          "output_type": "stream",
          "text": [
            "<function velocidade_media at 0x7f8f5fa9ea70>  \n",
            "\n",
            "velocidade média = 13.698630136986301 \n",
            "\n",
            " tempo transcorrido = 0.73\n"
          ],
          "name": "stdout"
        }
      ]
    },
    {
      "cell_type": "markdown",
      "metadata": {
        "id": "rtVgtB9-Uz1y"
      },
      "source": [
        ""
      ]
    }
  ]
}