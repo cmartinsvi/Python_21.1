{
  "nbformat": 4,
  "nbformat_minor": 0,
  "metadata": {
    "colab": {
      "name": "Exercícios_aula05.ipynb",
      "provenance": [],
      "authorship_tag": "ABX9TyMbd2pxyxwEZLO47vEXlG2L",
      "include_colab_link": true
    },
    "kernelspec": {
      "name": "python3",
      "display_name": "Python 3"
    },
    "language_info": {
      "name": "python"
    }
  },
  "cells": [
    {
      "cell_type": "markdown",
      "metadata": {
        "id": "view-in-github",
        "colab_type": "text"
      },
      "source": [
        "<a href=\"https://colab.research.google.com/github/cmartinsvi/Python_21.1/blob/main/Exerc%C3%ADcios_aula05.ipynb\" target=\"_parent\"><img src=\"https://colab.research.google.com/assets/colab-badge.svg\" alt=\"Open In Colab\"/></a>"
      ]
    },
    {
      "cell_type": "markdown",
      "metadata": {
        "id": "IvxG2NQE11JY"
      },
      "source": [
        "**Exercício 5:**\n",
        "Sabendo que o ângulo interno da ponta de uma estrela de 5 pontas é de 36 graus, desenhe uma estrela em uma janela.\n",
        "\n",
        "![title](https://github.com/malbouis/Python_intro/blob/master/aulas_2019/pics/estrela.png?raw=1)\n"
      ]
    },
    {
      "cell_type": "code",
      "metadata": {
        "id": "q266aTV61oYF"
      },
      "source": [
        "import turtle\n",
        "jn = turtle.Screen()         # Configurar a janela e seus atributos\n",
        "jn.bgcolor(\"lightpink\")     # Definir a cor de fundo da janela\n",
        "\n",
        "teca = turtle.Turtle()\n",
        "teca.color(\"purple\")            # Dizer à Teca para mudar sua cor (atributo)\n",
        "teca.pensize(3)       # Diga a Teca para ajustar a largura da caneta (atributo)\n",
        "\n",
        "'''\n",
        "teca.forward(150)\n",
        "teca.left(144)\n",
        "teca.forward(150)\n",
        "teca.left(144)\n",
        "teca.forward(150)\n",
        "teca.left(144)\n",
        "teca.forward(150)\n",
        "teca.left(144)\n",
        "teca.forward(150)\n",
        "\n",
        "Podemos simplificar todas essas linhas de código usando a função for + range\n",
        "onde na for teremos um loop e na range o numero de vezes que eu quero que ele \n",
        "se repita\n",
        "'''\n",
        "for i in range(5):\n",
        "  teca.forward(150)\n",
        "  teca.left(144)\n",
        "\n",
        "jn.mainloop()"
      ],
      "execution_count": null,
      "outputs": []
    }
  ]
}